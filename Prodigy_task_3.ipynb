{
  "nbformat": 4,
  "nbformat_minor": 0,
  "metadata": {
    "colab": {
      "provenance": [],
      "authorship_tag": "ABX9TyPL2HwLRsSfq/L2pFtNvCby",
      "include_colab_link": true
    },
    "kernelspec": {
      "name": "python3",
      "display_name": "Python 3"
    },
    "language_info": {
      "name": "python"
    }
  },
  "cells": [
    {
      "cell_type": "markdown",
      "metadata": {
        "id": "view-in-github",
        "colab_type": "text"
      },
      "source": [
        "<a href=\"https://colab.research.google.com/github/Sasi-2002-max/prodigytask1/blob/main/Prodigy_task_3.ipynb\" target=\"_parent\"><img src=\"https://colab.research.google.com/assets/colab-badge.svg\" alt=\"Open In Colab\"/></a>"
      ]
    },
    {
      "cell_type": "code",
      "execution_count": null,
      "metadata": {
        "colab": {
          "base_uri": "https://localhost:8080/",
          "height": 347
        },
        "id": "AqwN5YJJGy65",
        "outputId": "222c97ca-fe50-4de0-9b1d-6dca1000f420"
      },
      "outputs": [
        {
          "output_type": "error",
          "ename": "FileExistsError",
          "evalue": "[Errno 17] File exists: '/content/cat_dog.csv'",
          "traceback": [
            "\u001b[0;31m---------------------------------------------------------------------------\u001b[0m",
            "\u001b[0;31mFileExistsError\u001b[0m                           Traceback (most recent call last)",
            "\u001b[0;32m<ipython-input-27-2fbd8922ab91>\u001b[0m in \u001b[0;36m<cell line: 12>\u001b[0;34m()\u001b[0m\n\u001b[1;32m     10\u001b[0m \u001b[0;31m# Define the path to the dataset (adjust according to your path)\u001b[0m\u001b[0;34m\u001b[0m\u001b[0;34m\u001b[0m\u001b[0m\n\u001b[1;32m     11\u001b[0m \u001b[0mtrain_folder\u001b[0m \u001b[0;34m=\u001b[0m \u001b[0;34m'/content/cat_dog.csv'\u001b[0m  \u001b[0;31m# Path to the train dataset\u001b[0m\u001b[0;34m\u001b[0m\u001b[0;34m\u001b[0m\u001b[0m\n\u001b[0;32m---> 12\u001b[0;31m \u001b[0mos\u001b[0m\u001b[0;34m.\u001b[0m\u001b[0mmakedirs\u001b[0m\u001b[0;34m(\u001b[0m\u001b[0mtrain_folder\u001b[0m\u001b[0;34m,\u001b[0m \u001b[0mexist_ok\u001b[0m\u001b[0;34m=\u001b[0m\u001b[0;32mTrue\u001b[0m\u001b[0;34m)\u001b[0m\u001b[0;34m\u001b[0m\u001b[0;34m\u001b[0m\u001b[0m\n\u001b[0m\u001b[1;32m     13\u001b[0m \u001b[0;34m\u001b[0m\u001b[0m\n\u001b[1;32m     14\u001b[0m \u001b[0;31m# Initialize lists to hold image data and labels\u001b[0m\u001b[0;34m\u001b[0m\u001b[0;34m\u001b[0m\u001b[0m\n",
            "\u001b[0;32m/usr/lib/python3.10/os.py\u001b[0m in \u001b[0;36mmakedirs\u001b[0;34m(name, mode, exist_ok)\u001b[0m\n\u001b[1;32m    223\u001b[0m             \u001b[0;32mreturn\u001b[0m\u001b[0;34m\u001b[0m\u001b[0;34m\u001b[0m\u001b[0m\n\u001b[1;32m    224\u001b[0m     \u001b[0;32mtry\u001b[0m\u001b[0;34m:\u001b[0m\u001b[0;34m\u001b[0m\u001b[0;34m\u001b[0m\u001b[0m\n\u001b[0;32m--> 225\u001b[0;31m         \u001b[0mmkdir\u001b[0m\u001b[0;34m(\u001b[0m\u001b[0mname\u001b[0m\u001b[0;34m,\u001b[0m \u001b[0mmode\u001b[0m\u001b[0;34m)\u001b[0m\u001b[0;34m\u001b[0m\u001b[0;34m\u001b[0m\u001b[0m\n\u001b[0m\u001b[1;32m    226\u001b[0m     \u001b[0;32mexcept\u001b[0m \u001b[0mOSError\u001b[0m\u001b[0;34m:\u001b[0m\u001b[0;34m\u001b[0m\u001b[0;34m\u001b[0m\u001b[0m\n\u001b[1;32m    227\u001b[0m         \u001b[0;31m# Cannot rely on checking for EEXIST, since the operating system\u001b[0m\u001b[0;34m\u001b[0m\u001b[0;34m\u001b[0m\u001b[0m\n",
            "\u001b[0;31mFileExistsError\u001b[0m: [Errno 17] File exists: '/content/cat_dog.csv'"
          ]
        }
      ],
      "source": [
        "\n",
        "import os\n",
        "import numpy as np\n",
        "import cv2\n",
        "from sklearn.model_selection import train_test_split\n",
        "from sklearn.svm import SVC\n",
        "from sklearn.metrics import accuracy_score, classification_report\n",
        "from sklearn.preprocessing import StandardScaler\n",
        "import matplotlib.pyplot as plt\n",
        "\n",
        "# Define the path to the dataset (adjust according to your path)\n",
        "train_folder = '/content/cat_dog.csv'  # Path to the train dataset\n",
        "os.makedirs(train_folder, exist_ok=True)\n",
        "\n",
        "# Initialize lists to hold image data and labels\n",
        "images = []\n",
        "labels = []\n",
        "\n",
        "# Load and process the images\n",
        "for subfolder in ['cat', 'dog']:\n",
        "    subfolder_path = os.path.join(train_folder, subfolder)\n",
        "    os.makedirs(subfolder_path, exist_ok=True)  # Create subfolders\n",
        "\n",
        "    for filename in os.listdir(subfolder_path):  # use subfolder_path to loop through images\n",
        "        if filename.endswith(('.jpg', '.png', '.jpeg')):\n",
        "            # Load image\n",
        "            img_path = os.path.join(subfolder_path, filename)\n",
        "\n",
        "            # Check if the file exists before attempting to read it\n",
        "            if os.path.exists(img_path):\n",
        "                img = cv2.imread(img_path)  # use subfolder_path to load image\n",
        "                if img is not None:  # Check if the image was loaded successfully\n",
        "                    img = cv2.resize(img, (64, 64))  # Resize to 64x64 pixels\n",
        "                    img = img.flatten()  # Flatten image to a 1D array\n",
        "\n",
        "                    # Label: 0 for cats, 1 for dogs\n",
        "                    label = 0 if 'cat' in filename else 1\n",
        "\n",
        "                    # Append to lists\n",
        "                    images.append(img)\n",
        "                    labels.append(label)\n",
        "                else:\n",
        "                    print(f\"Warning: Could not load image: {img_path}\")\n",
        "            else:\n",
        "                print(f\"Warning: File not found: {img_path}\")\n",
        "\n",
        "# Convert lists to numpy arrays\n",
        "X = np.array(images)\n",
        "y = np.array(labels)\n",
        "\n",
        "# Scale the pixel values (normalize to range [0, 1])\n",
        "# Check if X is empty before scaling\n",
        "if X.size == 0:\n",
        "    print(\"Error: No image files found in the specified directory.\")\n",
        "else:\n",
        "    scaler = StandardScaler()\n",
        "    X_scaled = scaler.fit_transform(X)\n",
        "\n",
        "    # Split the dataset into training and testing sets (80% train, 20% test)\n",
        "    X_train, X_test, y_train, y_test = train_test_split(\n",
        "        X_scaled, y, test_size=0.2, random_state=42\n",
        "    )\n",
        "\n",
        "    # Initialize the Support Vector Machine classifier with a linear kernel\n",
        "    svm = SVC(kernel=\"linear\", random_state=42)\n",
        "\n",
        "    # Train the SVM model\n",
        "    svm.fit(X_train, y_train)\n",
        "\n",
        "    # Make predictions on the test set\n",
        "    y_pred = svm.predict(X_test)\n",
        "\n",
        "    # Calculate accuracy\n",
        "    accuracy = accuracy_score(y_test, y_pred)\n",
        "    print(f'Accuracy: {accuracy * 100:.2f}%')\n",
        "\n",
        "    # Print classification report\n",
        "    print('Classification Report:')\n",
        "    print(classification_report(y_test, y_pred))\n",
        "\n",
        "    # Visualize some of the test results\n",
        "    num_images = 5  # Number of images to display\n",
        "    fig, axes = plt.subplots(1, num_images, figsize=(15, 5))\n",
        "\n",
        "    for i in range(num_images):\n",
        "        # The following lines were indented to be part of the for loop\n",
        "        ax = axes[i]\n",
        "        ax.imshow(X_test[i].reshape(64, 64, 3))  # Reshape back to image dimensions\n",
        "        ax.set_title(f'Predicted: {\"Dog\" if y_pred[i] == 1 else \"Cat\"}')\n",
        "        ax.axis('off')\n",
        "\n",
        "\n",
        "plt.show()"
      ]
    }
  ]
}